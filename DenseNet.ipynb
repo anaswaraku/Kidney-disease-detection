{
  "nbformat": 4,
  "nbformat_minor": 0,
  "metadata": {
    "colab": {
      "provenance": [],
      "mount_file_id": "1WUPV2EpM7OJWm3M6UL9WHjgXzlZYTHw_",
      "authorship_tag": "ABX9TyP5HG0A2HzNBk3od3SAyIoP",
      "include_colab_link": true
    },
    "kernelspec": {
      "name": "python3",
      "display_name": "Python 3"
    },
    "language_info": {
      "name": "python"
    }
  },
  "cells": [
    {
      "cell_type": "markdown",
      "metadata": {
        "id": "view-in-github",
        "colab_type": "text"
      },
      "source": [
        "<a href=\"https://colab.research.google.com/github/anaswaraku/Kidney-disease-detection/blob/main/DenseNet.ipynb\" target=\"_parent\"><img src=\"https://colab.research.google.com/assets/colab-badge.svg\" alt=\"Open In Colab\"/></a>"
      ]
    },
    {
      "cell_type": "code",
      "source": [
        "import tensorflow as tf\n",
        "from tensorflow.keras.models import Model\n",
        "from tensorflow.keras.layers import Input, Dense, BatchNormalization, Activation, Conv2D, Concatenate, GlobalAveragePooling2D\n",
        "from tensorflow.keras.optimizers import Adam\n",
        "from tensorflow.keras.preprocessing.image import ImageDataGenerator\n",
        "\n"
      ],
      "metadata": {
        "id": "MF4y4DYr_rvZ"
      },
      "execution_count": 9,
      "outputs": []
    },
    {
      "cell_type": "code",
      "source": [
        "# Define DenseNet Block\n",
        "def dense_block(x, growth_rate, num_layers):\n",
        "    for _ in range(num_layers):\n",
        "        # Bottleneck layer (1x1 convolution)\n",
        "        inter_channel = 4 * growth_rate\n",
        "        x1 = BatchNormalization()(x)\n",
        "        x1 = Activation('relu')(x1)\n",
        "        x1 = Conv2D(inter_channel, kernel_size=1, padding='same', use_bias=False)(x1)\n",
        "\n",
        "        # Convolution layer (3x3 convolution)\n",
        "        x1 = BatchNormalization()(x1)\n",
        "        x1 = Activation('relu')(x1)\n",
        "        x1 = Conv2D(growth_rate, kernel_size=3, padding='same', use_bias=False)(x1)\n",
        "\n",
        "        # Concatenate output\n",
        "        x = Concatenate(axis=-1)([x, x1])\n",
        "    return x\n"
      ],
      "metadata": {
        "id": "lMC_SH6gXacT"
      },
      "execution_count": 10,
      "outputs": []
    },
    {
      "cell_type": "code",
      "source": [
        "\n",
        "# Define Transition Block\n",
        "def transition_block(x, compression_factor):\n",
        "    num_channels = int(x.shape[-1])\n",
        "    num_channels = int(num_channels * compression_factor)\n",
        "\n",
        "    x = BatchNormalization()(x)\n",
        "    x = Conv2D(num_channels, kernel_size=1, padding='same', use_bias=False)(x)\n",
        "    x = Activation('relu')(x)\n",
        "    x = tf.keras.layers.AveragePooling2D(pool_size=2, strides=2, padding='same')(x)\n",
        "    return x\n"
      ],
      "metadata": {
        "id": "fbrjpGEtXdgo"
      },
      "execution_count": 11,
      "outputs": []
    },
    {
      "cell_type": "code",
      "source": [
        "\n",
        "# DenseNet model\n",
        "def DenseNet(input_shape, num_classes, growth_rate, num_layers_per_block, compression_factor):\n",
        "    inputs = Input(shape=input_shape)\n",
        "    x = Conv2D(64, kernel_size=7, strides=2, padding='same', use_bias=False)(inputs)\n",
        "    x = BatchNormalization()(x)\n",
        "    x = Activation('relu')(x)\n",
        "    x = tf.keras.layers.MaxPooling2D(pool_size=3, strides=2, padding='same')(x)\n",
        "\n",
        "    for i, num_layers in enumerate(num_layers_per_block):\n",
        "        # Dense Block\n",
        "        x = dense_block(x, growth_rate, num_layers)\n",
        "\n",
        "        # Transition Block\n",
        "        if i != len(num_layers_per_block) - 1:\n",
        "            x = transition_block(x, compression_factor)\n",
        "\n",
        "    # Global average pooling and classification layer\n",
        "    x = GlobalAveragePooling2D()(x)\n",
        "    outputs = Dense(num_classes, activation='softmax')(x)\n",
        "\n",
        "    model = Model(inputs=inputs, outputs=outputs)\n",
        "    return model\n"
      ],
      "metadata": {
        "id": "9KsNFRloXgMB"
      },
      "execution_count": 12,
      "outputs": []
    },
    {
      "cell_type": "code",
      "source": [
        "\n",
        "# Parameters\n",
        "input_shape = (224, 224, 3)  # adjust according to your preprocessed image size\n",
        "num_classes = 4  # Number of classes: cyst, tumor, stone, normal\n",
        "growth_rate = 32  # Growth rate parameter (K)\n",
        "num_layers_per_block = [6, 12, 24, 16]  # Number of layers in each dense block\n",
        "compression_factor = 0.5  # Compression factor in transition blocks\n",
        "\n",
        "# Create DenseNet model\n",
        "model = DenseNet(input_shape, num_classes, growth_rate, num_layers_per_block, compression_factor)\n",
        "\n",
        "model.compile(optimizer=Adam(learning_rate=0.001), loss='categorical_crossentropy', metrics=['accuracy'])\n",
        "\n"
      ],
      "metadata": {
        "id": "vmUg8qcjXi1q"
      },
      "execution_count": 13,
      "outputs": []
    },
    {
      "cell_type": "code",
      "source": [
        "\n",
        "# Data Augmentation and Image Preprocessing\n",
        "train_datagen = ImageDataGenerator(\n",
        "    rescale=1./255,\n",
        "    rotation_range=20,\n",
        "    width_shift_range=0.1,\n",
        "    height_shift_range=0.1,\n",
        "    shear_range=0.2,\n",
        "    zoom_range=0.2,\n",
        "    horizontal_flip=True,\n",
        "    fill_mode='nearest'\n",
        ")\n"
      ],
      "metadata": {
        "id": "KHrGP-rvXlFS"
      },
      "execution_count": 14,
      "outputs": []
    },
    {
      "cell_type": "code",
      "source": [
        "\n",
        "# Load the dataset\n",
        "train_generator = train_datagen.flow_from_directory(\n",
        "    '/content/drive/MyDrive/Preprocessed/train',\n",
        "    target_size=(224, 224),\n",
        "    batch_size=32,\n",
        "    class_mode='categorical'\n",
        ")\n"
      ],
      "metadata": {
        "colab": {
          "base_uri": "https://localhost:8080/"
        },
        "id": "tNE6Na6vXo6Q",
        "outputId": "bd2dd46e-acf6-4276-f75b-893b7a078e8f"
      },
      "execution_count": 15,
      "outputs": [
        {
          "output_type": "stream",
          "name": "stdout",
          "text": [
            "Found 9791 images belonging to 4 classes.\n"
          ]
        }
      ]
    },
    {
      "cell_type": "code",
      "source": [
        "\n",
        "# Train the model\n",
        "model.fit(\n",
        "    train_generator,\n",
        "    steps_per_epoch=train_generator.samples/train_generator.batch_size,\n",
        "    epochs=20  # adjust as needed\n",
        ")\n",
        "\n",
        "# Save the model\n",
        "model.save('denseNet_model.h5')\n"
      ],
      "metadata": {
        "colab": {
          "base_uri": "https://localhost:8080/"
        },
        "id": "rMS4RGc2Xq_x",
        "outputId": "29b30427-c3ab-46a2-e907-eec8ebf2293e"
      },
      "execution_count": null,
      "outputs": [
        {
          "output_type": "stream",
          "name": "stdout",
          "text": [
            "Epoch 1/20\n",
            " 12/305 [>.............................] - ETA: 2:01:45 - loss: 3.0195 - accuracy: 0.2344"
          ]
        }
      ]
    }
  ]
}