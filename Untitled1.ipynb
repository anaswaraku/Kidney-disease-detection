{
  "nbformat": 4,
  "nbformat_minor": 0,
  "metadata": {
    "colab": {
      "provenance": [],
      "authorship_tag": "ABX9TyOeJZekwBldC/ExK8m8RRpZ",
      "include_colab_link": true
    },
    "kernelspec": {
      "name": "python3",
      "display_name": "Python 3"
    },
    "language_info": {
      "name": "python"
    }
  },
  "cells": [
    {
      "cell_type": "markdown",
      "metadata": {
        "id": "view-in-github",
        "colab_type": "text"
      },
      "source": [
        "<a href=\"https://colab.research.google.com/github/anaswaraku/Kidney-disease-detection/blob/main/Untitled1.ipynb\" target=\"_parent\"><img src=\"https://colab.research.google.com/assets/colab-badge.svg\" alt=\"Open In Colab\"/></a>"
      ]
    },
    {
      "cell_type": "code",
      "execution_count": 18,
      "metadata": {
        "id": "RpSWP7elQ2lU"
      },
      "outputs": [],
      "source": [
        "import cv2\n",
        "import os\n",
        "from imageio.v2 import imread\n",
        "import numpy as np\n",
        "from tensorflow.keras.preprocessing.image import ImageDataGenerator\n",
        "from sklearn.preprocessing import MinMaxScaler"
      ]
    },
    {
      "cell_type": "code",
      "source": [
        "data_folders = [\"Cyst\", \"Stone\", \"Tumor\", \"Normal\"]\n",
        "flat_data_arr = []\n",
        "target_arr = []\n",
        "base_dir = '/content/drive/MyDrive/Project/Training'\n",
        "output_dir = '/content/drive/MyDrive/Project/Training/Preprocessed'"
      ],
      "metadata": {
        "id": "hFoAepPTRS7R"
      },
      "execution_count": 19,
      "outputs": []
    },
    {
      "cell_type": "code",
      "source": [
        "# Function to resize images to (224, 224) pixels\n",
        "def resize_images(image_dir):\n",
        "        image = cv2.imread(image_dir, cv2.IMREAD_GRAYSCALE)\n",
        "        img = cv2.resize(image, (224, 224))\n",
        "        return img"
      ],
      "metadata": {
        "id": "nJhUAzVGdG7a"
      },
      "execution_count": 36,
      "outputs": []
    },
    {
      "cell_type": "code",
      "source": [
        "# Function for identical blurring\n",
        "def Gaussian_blur (img):\n",
        "    kernel_size = (5, 5)  # Adjust kernel size as needed\n",
        "    sigma = 0  # Sigma is not directly specified in OpenCV's GaussianBlur\n",
        "    filtered_image = cv2.GaussianBlur(img, kernel_size, sigma)\n",
        "    return filtered_image"
      ],
      "metadata": {
        "id": "1RYKSwuSSYgt"
      },
      "execution_count": 21,
      "outputs": []
    },
    {
      "cell_type": "code",
      "source": [
        "def clahe(image):\n",
        "    clahe = cv2.createCLAHE(clipLimit=2.0,tileGridSize=(8,8))\n",
        "    clahe_image=clahe.apply(image)\n",
        "    return clahe_image"
      ],
      "metadata": {
        "id": "a5KRX_IQaLhX"
      },
      "execution_count": 22,
      "outputs": []
    },
    {
      "cell_type": "code",
      "source": [
        "def histogram_equalization(img):\n",
        "  img_yuv = cv2.cvtColor(img,cv2.COLOR_BGR2YUV)\n",
        "  img_yuv[:,:,0] = cv2.equalizeHist(img_yuv[:,:,0])\n",
        "  equalized_img = cv2.cvtColor(img_yuv, cv2.COLOR_YUV2BGR)\n",
        "  return(equalized_img)"
      ],
      "metadata": {
        "id": "X7JpKvy1Sxyg"
      },
      "execution_count": 23,
      "outputs": []
    },
    {
      "cell_type": "code",
      "source": [
        "def min_max_scaling(img):\n",
        "  scaler = MinMaxScaler()\n",
        "  img_scaled = scaler.fit_transform(img.flatten().reshape(-1, 1)).reshape(img.shape)\n",
        "  return(img_scaled)"
      ],
      "metadata": {
        "id": "0IbwWjLRTQfn"
      },
      "execution_count": 24,
      "outputs": []
    },
    {
      "cell_type": "code",
      "source": [
        "# Function for image augmentation\n",
        "def image_augmentation(img):\n",
        "    datagen = ImageDataGenerator(\n",
        "        rotation_range=20,\n",
        "        width_shift_range=0.2,\n",
        "        height_shift_range=0.2,\n",
        "        shear_range=0.2,\n",
        "        zoom_range=0.2,\n",
        "        horizontal_flip=True,\n",
        "        fill_mode='nearest')\n",
        "\n",
        "    # Remove the batch size dimension\n",
        "    aug_img = img[0]\n",
        "    return aug_img\n"
      ],
      "metadata": {
        "id": "9Cc70pFlTc-b"
      },
      "execution_count": 44,
      "outputs": []
    },
    {
      "cell_type": "code",
      "source": [
        "\n",
        "for folder in data_folders:\n",
        "    folder_path = os.path.join(base_dir, folder)\n",
        "    print(\"Folder Path:\", folder_path)\n",
        "    output_folder = os.path.join(output_dir, folder)\n",
        "    os.makedirs(output_folder, exist_ok=True)\n",
        "\n",
        "    for filename in os.listdir(folder_path):\n",
        "        if filename.endswith(\".jpg\"):\n",
        "            image_path = os.path.join(folder_path, filename)\n",
        "            # Preprocess image\n",
        "            preprocessed_image = resize_images(image_path)\n",
        "            preprocessed_image = Gaussian_blur(preprocessed_image)\n",
        "            preprocessed_image = clahe(preprocessed_image)\n",
        "            preprocessed_image = min_max_scaling(preprocessed_image)\n",
        "            preprocessed_image = image_augmentation(preprocessed_image)\n",
        "\n",
        "            # Save preprocessed image\n",
        "            output_path = os.path.join(output_folder, filename)\n",
        "            cv2.imwrite(output_path, preprocessed_image)\n",
        "print('Preprocess Completed')"
      ],
      "metadata": {
        "colab": {
          "base_uri": "https://localhost:8080/"
        },
        "id": "W1ZOmCy-RU32",
        "outputId": "4c965025-3ec7-4cdb-b816-c083fce99793"
      },
      "execution_count": 45,
      "outputs": [
        {
          "output_type": "stream",
          "name": "stdout",
          "text": [
            "Folder Path: /content/drive/MyDrive/Project/Training/Cyst\n",
            "Folder Path: /content/drive/MyDrive/Project/Training/Stone\n",
            "Folder Path: /content/drive/MyDrive/Project/Training/Tumor\n",
            "Folder Path: /content/drive/MyDrive/Project/Training/Normal\n",
            "Preprocess Completed\n"
          ]
        }
      ]
    }
  ]
}